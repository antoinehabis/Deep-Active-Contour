{
 "cells": [
  {
   "cell_type": "code",
   "execution_count": 1,
   "metadata": {},
   "outputs": [
    {
     "name": "stderr",
     "output_type": "stream",
     "text": [
      "/home/ahabis/.local/lib/python3.8/site-packages/torchvision/io/image.py:13: UserWarning: Failed to load image Python extension: libtorch_cuda_cu.so: cannot open shared object file: No such file or directory\n",
      "  warn(f\"Failed to load image Python extension: {e}\")\n",
      "/tmp/ipykernel_402562/1253417915.py:5: DeprecationWarning: Please use `distance_transform_edt` from the `scipy.ndimage` namespace, the `scipy.ndimage.morphology` namespace is deprecated.\n",
      "  from scipy.ndimage.morphology import distance_transform_edt\n"
     ]
    }
   ],
   "source": [
    "from config import *\n",
    "from pyfeats import glcm_features\n",
    "from torchstain import MacenkoNormalizer\n",
    "from utils import *\n",
    "from scipy.ndimage.morphology import distance_transform_edt\n",
    "\n",
    "normalizer = MacenkoNormalizer(backend='numpy')\n",
    "normalizer.HERef = np.array([[0.47262014, 0.17700575],\n",
    "                             [0.79697804, 0.84033483],\n",
    "                             [0.37610664, 0.51235373]])\n",
    "normalizer.maxCRef = np.array([1.43072807, 0.98501085])\n"
   ]
  },
  {
   "cell_type": "code",
   "execution_count": 103,
   "metadata": {},
   "outputs": [],
   "source": [
    "ann = pd.read_csv(os.path.join(path_annotations,'annotations.csv'), index_col=0)\n",
    "x = 2\n",
    "y = 15\n",
    "features = []\n",
    "all_correlograms = []\n",
    "for filename in os.listdir(path_images):\n",
    "    mask  = tifffile.imread(os.path.join(path_masks,filename))\n",
    "    image = tifffile.imread(os.path.join(path_images,filename))\n",
    "    img, HE  = normalizer.normalize(image)\n",
    "    HE_corr = np.clip(HE.reshape(2,image.shape[0], image.shape[1])[1],0,5)/5\n",
    "    HE = (255 * HE_corr).astype(int)\n",
    "    all_correlograms.append(compute_correlogram(HE_corr,mask,x,y))\n",
    "    # features.append(glcm_features(HE,ignore_zeros=True)[1])\n"
   ]
  },
  {
   "cell_type": "code",
   "execution_count": 104,
   "metadata": {},
   "outputs": [],
   "source": [
    "correlograms_stack = np.stack(all_correlograms)"
   ]
  },
  {
   "cell_type": "code",
   "execution_count": 113,
   "metadata": {},
   "outputs": [],
   "source": [
    "def compute_correlogram(img,\n",
    "                        mask,\n",
    "                        bins_space,\n",
    "                        bins_digit_size):\n",
    "    \n",
    "    \n",
    "    corr = np.zeros((bins_space, bins_digit_size))\n",
    "    itf = distance_transform_edt(mask)\n",
    "    itf = itf/np.max(itf)\n",
    "    lin = np.arange(0,1 + bins_space,1/bins_space)\n",
    "    lin2 = np.linspace(0,1,bins_digit_size+1)\n",
    "    \n",
    "    for i in range(bins_space):\n",
    "        levels = np.logical_and(itf >(i/bins_space), itf<((i+1)/bins_space))\n",
    "\n",
    "        without_zeros = img * levels\n",
    "        without_zeros = without_zeros[without_zeros>0.]\n",
    "        hist,_ = np.histogram(without_zeros, bins = lin2, density=True)\n",
    "        corr[i] = hist\n",
    "    return corr"
   ]
  },
  {
   "cell_type": "code",
   "execution_count": 114,
   "metadata": {},
   "outputs": [],
   "source": [
    "# features_stack = np.stack(features)\n",
    "# ann = ann.replace(['dilated_tubule', 'fake_tubule'],[1,0])\n",
    "# dic = {}\n",
    "# for index, row in ann[ann['image']== '20182.svs'].iterrows():\n",
    "#     filename = row_to_filename(row)\n",
    "#     dic[filename] = row.term"
   ]
  },
  {
   "cell_type": "code",
   "execution_count": 115,
   "metadata": {},
   "outputs": [],
   "source": [
    "matrixes_big = []\n",
    "vals_big = []\n",
    "\n",
    "for filename in np.unique(list(ann['image'])):\n",
    "    ann = ann.replace(['dilated_tubule', 'fake_tubule'],[1,0])\n",
    "    dic = {}\n",
    "    for index, row in ann[ann['image']== filename].iterrows():\n",
    "        filename = row_to_filename(row)\n",
    "        dic[filename] = row.term\n",
    "\n",
    "    list_ = list(dic.keys())\n",
    "    indexes = np.zeros(len(list_))\n",
    "    for i, filename in enumerate(list_):\n",
    "        indexes[i] = np.argwhere(np.array(os.listdir(path_images)) == filename).flatten()[0]\n",
    "\n",
    "    correlograms = correlograms_stack[indexes.astype(int)]\n",
    "    indexes_1 = np.argwhere(np.array(list(dic.values())) == 1).flatten()\n",
    "    matrixes = np.zeros((len(indexes_1), correlograms.shape[0]))\n",
    "    vals = np.tile(np.array(list(dic.values())),len(indexes_1))\n",
    "\n",
    "    for j, index_anchor in enumerate(indexes_1):\n",
    "        correlograms_anchor = correlograms[index_anchor][None]\n",
    "    \n",
    "        matrixes[j] = np.mean(np.sum(np.minimum(correlograms, correlograms_anchor),-1)/ np.sum(np.maximum(correlograms, correlograms_anchor),-1),axis = -1)\n",
    "    matrixes_big.append(matrixes.flatten())\n",
    "    vals_big.append(vals)"
   ]
  },
  {
   "cell_type": "code",
   "execution_count": 116,
   "metadata": {},
   "outputs": [],
   "source": [
    "data = np.concatenate(matrixes_big)\n",
    "score= data# score = np.mean(data.reshape((data.shape[0],-1)),-1)\n",
    "vals = np.concatenate(vals_big)\n",
    "\n",
    "# from sklearn.linear_model import LinearRegression\n",
    "\n",
    "\n",
    "# l = LinearRegression(fit_intercept=False,positive = True)\n",
    "# l.fit(data,vals)\n",
    "# score = data[:,0]\n",
    "\n",
    "n_iter = 10000\n",
    "eps = 1e-8\n",
    "precision ,recall, recognition, pq  = np.zeros(n_iter), np.zeros(n_iter), np.zeros(n_iter), np.zeros(n_iter)\n",
    "\n",
    "gt = vals\n",
    "ts = np.linspace(0,1,n_iter)\n",
    "\n",
    "\n",
    "for i, t in enumerate(ts):\n",
    "    \n",
    "    index_tp = np.argwhere(np.logical_and(score>t, gt.astype('bool'))).flatten()\n",
    "    tp = np.sum((score>t).astype(int) * gt)\n",
    "    tn = np.sum((score<t).astype(int) * (1 - gt))\n",
    "    fp = np.sum((score>t).astype(int) * (1 - gt))\n",
    "    fn = np.sum((score<t).astype(int) * (gt))\n",
    "    \n",
    "    precision[i] =   np.sum(tp) / (np.sum(tp) + np.sum(fp) + eps) \n",
    "    recall[i] =   np.sum(tp) / (np.sum(tp) + np.sum(fn) + eps) \n",
    "    recognition[i] =   2 * precision[i]*recall[i]/(precision[i]+ recall[i]+eps)\n"
   ]
  },
  {
   "cell_type": "code",
   "execution_count": 117,
   "metadata": {},
   "outputs": [
    {
     "name": "stdout",
     "output_type": "stream",
     "text": [
      "0.8764145324591449\n",
      "0.6564800356900198\n",
      "0.7506695525568553\n"
     ]
    },
    {
     "data": {
      "image/png": "[encoded data removed]",
      "text/plain": [
       "<Figure size 640x480 with 1 Axes>"
      ]
     },
     "metadata": {},
     "output_type": "display_data"
    }
   ],
   "source": [
    "plt.plot(ts,precision)\n",
    "plt.plot(ts,recall)\n",
    "plt.plot(ts,recognition)\n",
    "ind_ = np.argmax(recognition)\n",
    "print(recall[ind_])\n",
    "print(precision[ind_])\n",
    "print(recognition[ind_])\n"
   ]
  },
  {
   "cell_type": "code",
   "execution_count": 110,
   "metadata": {},
   "outputs": [
    {
     "ename": "NameError",
     "evalue": "name 'features_stack' is not defined",
     "output_type": "error",
     "traceback": [
      "\u001b[0;31m---------------------------------------------------------------------------\u001b[0m",
      "\u001b[0;31mNameError\u001b[0m                                 Traceback (most recent call last)",
      "Cell \u001b[0;32mIn[110], line 1\u001b[0m\n\u001b[0;32m----> 1\u001b[0m features \u001b[39m=\u001b[39m features_stack[indexes\u001b[39m.\u001b[39mastype(\u001b[39mint\u001b[39m)]\n\u001b[1;32m      2\u001b[0m indexes_1 \u001b[39m=\u001b[39m np\u001b[39m.\u001b[39margwhere(np\u001b[39m.\u001b[39marray(\u001b[39mlist\u001b[39m(dic\u001b[39m.\u001b[39mvalues())) \u001b[39m==\u001b[39m \u001b[39m1\u001b[39m)\u001b[39m.\u001b[39mflatten()\n\u001b[1;32m      3\u001b[0m matrixes \u001b[39m=\u001b[39m np\u001b[39m.\u001b[39mzeros((\u001b[39mlen\u001b[39m(indexes_1), features\u001b[39m.\u001b[39mshape[\u001b[39m0\u001b[39m],features\u001b[39m.\u001b[39mshape[\u001b[39m1\u001b[39m]))\n",
      "\u001b[0;31mNameError\u001b[0m: name 'features_stack' is not defined"
     ]
    }
   ],
   "source": [
    "features = features_stack[indexes.astype(int)]\n",
    "indexes_1 = np.argwhere(np.array(list(dic.values())) == 1).flatten()\n",
    "matrixes = np.zeros((len(indexes_1), features.shape[0],features.shape[1]))\n",
    "vals = np.tile(np.array(list(dic.values())),len(indexes_1))\n",
    "for j, index_anchor in enumerate(indexes_1):\n",
    "    features_anchor = features[index_anchor][None]\n",
    "    matrixes[j] = np.minimum(features, features_anchor)/ np.maximum(features, features_anchor)\n",
    "matrixes\n",
    "vals"
   ]
  }
 ],
 "metadata": {
  "kernelspec": {
   "display_name": "Python 3 (ipykernel)",
   "language": "python",
   "name": "python3"
  },
  "language_info": {
   "codemirror_mode": {
    "name": "ipython",
    "version": 3
   },
   "file_extension": ".py",
   "mimetype": "text/x-python",
   "name": "python",
   "nbconvert_exporter": "python",
   "pygments_lexer": "ipython3",
   "version": "3.8.10"
  },
  "orig_nbformat": 4
 },
 "nbformat": 4,
 "nbformat_minor": 2
}
